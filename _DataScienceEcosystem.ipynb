{
  "metadata": {
    "kernelspec": {
      "name": "python",
      "display_name": "Python (Pyodide)",
      "language": "python"
    },
    "language_info": {
      "codemirror_mode": {
        "name": "python",
        "version": 3
      },
      "file_extension": ".py",
      "mimetype": "text/x-python",
      "name": "python",
      "nbconvert_exporter": "python",
      "pygments_lexer": "ipython3",
      "version": "3.8"
    }
  },
  "nbformat_minor": 5,
  "nbformat": 4,
  "cells": [
    {
      "id": "4ac550ff-46c4-44f1-9a7b-06eecaeb80d9",
      "cell_type": "markdown",
      "source": "# Data Science Tools and Ecosystem",
      "metadata": {}
    },
    {
      "id": "7171cf07-71d8-446e-84cb-d002cfef3f4a",
      "cell_type": "markdown",
      "source": "# in this notebook, Diego Pacheco worked on his assignment for IBM Class.",
      "metadata": {}
    },
    {
      "id": "2f75c875-0349-4ff6-9783-6f18b132f47d",
      "cell_type": "markdown",
      "source": "# in this class we can learn:\n- **the most popular languages for datascience**\n- **some libraries used by Data scientist**\n- **arithmetic operation in python**",
      "metadata": {}
    },
    {
      "id": "9314bb80-6b40-4f67-8f2d-2e107e82cba1",
      "cell_type": "markdown",
      "source": "# Some languages used for data science are:Python, R, SQL, C++.",
      "metadata": {}
    },
    {
      "id": "5758469a-ef9b-4fd6-8566-d96bc60eb276",
      "cell_type": "markdown",
      "source": "# Some of the commonly used libraries used by Data Scientists include: \n- **For R: ggplot2, caret and shiny.\n# For Phyton: Seaborn, Pandas, Numpy and Matplotlib.",
      "metadata": {}
    },
    {
      "id": "3847687c-551c-49ca-b8de-99fe0b54180f",
      "cell_type": "code",
      "source": "import pandas as pd\n\n# conjunto de datos\ndata = {\n    \"Data Science Tools\": [\n        \"Jupyter Notebooks\",\n        \"Apache Zeppelin\",\n        \"Rstudio\"\n    ]\n}\n\n# Dataframe\ndf = pd.DataFrame(data)\n\n# elimina numeros de indice\ndf_no_index = lista.to_string(index=False)\n\n# muestra la tabla sin los numeros de indice\nprint(df_no_index)\n",
      "metadata": {
        "trusted": true,
        "scrolled": true
      },
      "outputs": [
        {
          "name": "stdout",
          "output_type": "stream",
          "text": "Data Science Tools\n Jupyter Notebooks\n   Apache Zeppelin\n           Rstudio\n"
        }
      ],
      "execution_count": 5
    },
    {
      "id": "b42bce29-644b-4b70-a9ef-f13a21c39975",
      "cell_type": "markdown",
      "source": "### Below are a few examples of evaluating arithmetic expressions in Python.\n- **Sustraccion**\n   ```python\n   23 - 8\n- **Addition**\n  ```python\n  5 + 6\n- **Divition**\n  ```python\n  6 / 12\n\n\n",
      "metadata": {}
    },
    {
      "id": "d112e5e6-d622-4574-92e3-6646f128988e",
      "cell_type": "code",
      "source": "# simple arithmetic expression to multiply\nx = (3 * 4) + 5\nx",
      "metadata": {
        "trusted": true
      },
      "outputs": [
        {
          "execution_count": 6,
          "output_type": "execute_result",
          "data": {
            "text/plain": "17"
          },
          "metadata": {}
        }
      ],
      "execution_count": 6
    },
    {
      "id": "4e6400b4-7d6c-4ebc-b6a6-988e342659bc",
      "cell_type": "code",
      "source": "# This will convert 200 minutes to hours by diving by 60\ny = 200/60\ny",
      "metadata": {
        "trusted": true
      },
      "outputs": [
        {
          "execution_count": 7,
          "output_type": "execute_result",
          "data": {
            "text/plain": "3.3333333333333335"
          },
          "metadata": {}
        }
      ],
      "execution_count": 7
    },
    {
      "id": "13ce7d3d-8e9c-47c1-8e0c-ec710097304c",
      "cell_type": "markdown",
      "source": "### the result is 3 hour and 20 minutes.",
      "metadata": {}
    },
    {
      "id": "838e9fed-8bbc-4c3d-90fa-e7c3e422cdb3",
      "cell_type": "markdown",
      "source": "## Author\nDiego Pacheco Candia",
      "metadata": {}
    },
    {
      "id": "b94749f1-ed62-4eb2-9279-29527254f577",
      "cell_type": "code",
      "source": "",
      "metadata": {
        "trusted": true
      },
      "outputs": [],
      "execution_count": null
    }
  ]
}